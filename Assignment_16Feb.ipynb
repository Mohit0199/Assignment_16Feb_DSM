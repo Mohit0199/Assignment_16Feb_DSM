{
 "cells": [
  {
   "cell_type": "code",
   "execution_count": 1,
   "id": "cc8e52ea-7b16-4b6c-8314-bcda9a8c7137",
   "metadata": {},
   "outputs": [],
   "source": [
    "# Q1. What is a database? Differentiate between SQL and NoSQL databases.\n",
    "\n",
    "## A database is a structured collection of data that is stored and accessed electronically.\n",
    "## Databases are designed to efficiently manage, store, retrieve, and manipulate data.\n",
    "## SQL databases are ideal for structured data and complex query operations with strict transactional requirements.\n",
    "## NoSQL databases are ideal for unstructured or semi-structured data, needing high scalability,\n",
    "## and flexibility in schema design."
   ]
  },
  {
   "cell_type": "code",
   "execution_count": 3,
   "id": "2760819a-dbe4-4929-9631-b58185369b13",
   "metadata": {},
   "outputs": [],
   "source": [
    "# Q2. What is DDL? Explain why CREATE, DROP, ALTER, and TRUNCATE are used with an example.\n",
    "\n",
    "## DDL means Data Definition Language. It is a subset of SQL (Structured Query Language).\n",
    "## DDL commands are used to create, modify, and delete database objects such as tables, indexes, and schemas.\n",
    "\n",
    "## CREATE: Used to create new database objects like tables, indexes, or schemas.\n",
    "# CREATE TABLE Employees (\n",
    "#     EmployeeID INT PRIMARY KEY,\n",
    "#     FirstName VARCHAR(50),\n",
    "#     LastName VARCHAR(50),\n",
    "#     BirthDate DATE,\n",
    "#     Position VARCHAR(50));\n",
    "\n",
    "\n",
    "## DROP: Used to delete existing database objects.\n",
    "# DROP TABLE Employees;\n",
    "\n",
    "## ALTER: Used to modify the structure of existing database objects.\n",
    "# ALTER TABLE Employees\n",
    "# ADD COLUMN Email VARCHAR(100);\n",
    "\n",
    "## TRUNCATE: Used to remove all records from a table, but not the table itself.\n",
    "# TRUNCATE TABLE Employees;\n"
   ]
  },
  {
   "cell_type": "code",
   "execution_count": 4,
   "id": "6fb745ce-9998-49ca-bf8a-38a0cb9f923e",
   "metadata": {},
   "outputs": [],
   "source": [
    "# Q3. What is DML? Explain INSERT, UPDATE, and DELETE with an example\n",
    "\n",
    "## DML means Data Manipulation Language. It is a subset of SQL.used to manage data within database objects such as tables.\n",
    "## DML commands are used to insert, update, delete, and retrieve data from a database.\n",
    "\n",
    "## INSERT: Adds new records to a table.\n",
    "# INSERT INTO Employees (EmployeeID, FirstName, LastName, BirthDate, Position)\n",
    "# VALUES (1, 'John', 'Doe', '1985-02-15', 'Software Engineer');\n",
    "\n",
    "## UPDATE: Modifies existing records in a table.\n",
    "# UPDATE Employees\n",
    "# SET Position = 'Senior Software Engineer'\n",
    "# WHERE EmployeeID = 1;\n",
    "\n",
    "## DELETE: Removes records from a table.\n",
    "# DELETE FROM Employees\n",
    "# WHERE EmployeeID = 1;\n"
   ]
  },
  {
   "cell_type": "code",
   "execution_count": 5,
   "id": "5dd8b22f-5808-4516-9da0-8ce0c44c223c",
   "metadata": {},
   "outputs": [],
   "source": [
    "# Q4. What is DQL? Explain SELECT with an example.\n",
    "\n",
    "## DQL means Data Query Language. It is a subset of SQL. IT is used to query the database and retrieve data from it.\n",
    "## The primary command in DQL is SELECT, which is used to fetch data from one or more tables.\n",
    "\n",
    "## The SELECT command is used to retrieve data from a database. It allows to specify the columns we want to retrieve,\n",
    "## the tables from which to retrieve the data, and any conditions that the data must meet.\n",
    "# SELECT FirstName, LastName, Position\n",
    "# FROM Employees\n",
    "# WHERE Position = 'Software Engineer';\n"
   ]
  },
  {
   "cell_type": "code",
   "execution_count": 6,
   "id": "c672483d-0e12-442a-99f5-13b11ddd0a5b",
   "metadata": {},
   "outputs": [],
   "source": [
    "# Q5. Explain Primary Key and Foreign Key.\n",
    "\n",
    "## A Primary Key is a unique identifier for each record in a database table.\n",
    "## A Foreign Key is a field (or a group of fields) in one table that uniquely identifies a row of another table.\n",
    "## It establishes and enforces a link between the data in two tables."
   ]
  },
  {
   "cell_type": "code",
   "execution_count": 9,
   "id": "5bc1d409-55a3-40fe-a53b-5823bc404fb1",
   "metadata": {},
   "outputs": [],
   "source": [
    "# Q6. Write a python code to connect MySQL to python. Explain the cursor() and execute() method.\n",
    "\n",
    "# import mysql.connector\n",
    "\n",
    "# conn = mysql.connector.connect(\n",
    "#     host=\"host_name\",\n",
    "#     user=\"username\",\n",
    "#     password=\"password\"\n",
    "# )\n",
    "\n",
    "# mycursor = conn.cursor()\n",
    "\n",
    "\n",
    "## The cursor() method creates a new cursor object associated with the connection, which is used to execute SQL queries\n",
    "## and fetch results. The execute() method is used to execute SQL queries."
   ]
  },
  {
   "cell_type": "code",
   "execution_count": 10,
   "id": "e6d471db-0c5a-4a84-afb3-2052f72f05cd",
   "metadata": {},
   "outputs": [],
   "source": [
    "# Q7. Give the order of execution of SQL clauses in an SQL query\n",
    "\n",
    "## FROM: Specifies the table(s) from which to retrieve the data.\n",
    "## WHERE: Filters the rows based on specified conditions.\n",
    "## GROUP BY: Groups the rows that have the same values into summary rows.\n",
    "## HAVING: Filters the grouped rows based on specified conditions.\n",
    "## SELECT: Specifies the columns to be retrieved.\n",
    "## ORDER BY: Sorts the result set by specified columns.\n",
    "## LIMIT: Limits the number of rows returned and provides options for pagination"
   ]
  },
  {
   "cell_type": "code",
   "execution_count": null,
   "id": "dc00c1fe-8967-4387-9fce-d810c175330f",
   "metadata": {},
   "outputs": [],
   "source": []
  },
  {
   "cell_type": "code",
   "execution_count": null,
   "id": "4d7e4f87-cb53-456b-856f-746bcab5cbd7",
   "metadata": {},
   "outputs": [],
   "source": []
  }
 ],
 "metadata": {
  "kernelspec": {
   "display_name": "Python 3 (ipykernel)",
   "language": "python",
   "name": "python3"
  },
  "language_info": {
   "codemirror_mode": {
    "name": "ipython",
    "version": 3
   },
   "file_extension": ".py",
   "mimetype": "text/x-python",
   "name": "python",
   "nbconvert_exporter": "python",
   "pygments_lexer": "ipython3",
   "version": "3.10.8"
  }
 },
 "nbformat": 4,
 "nbformat_minor": 5
}
